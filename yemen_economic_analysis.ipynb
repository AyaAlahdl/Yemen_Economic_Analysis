
import pandas as pd
import numpy as np
import matplotlib.pyplot as plt
import seaborn as sns
from scipy.stats import pearsonr

### Load Data for GDP, Inflation, and Unemployment
# Define a function to load data with appropriate parameters
def load_data(file_path, header_row=0, skip_rows=0):
    try:
        df = pd.read_csv(file_path, engine='python', header=header_row, skiprows=skip_rows, on_bad_lines='skip')
        print(f"Loaded data from {file_path}:")
        print("Columns:", df.columns)  # Display columns to check for expected structure
        print(df.head())  # Display first few rows to inspect data
        return df
    except Exception as e:
        print(f"An error occurred while reading {file_path}: {e}")
        return None

# Loading GDP data for Yemen
gdp_data = load_data("API_NY.GDP.MKTP.CD_DS2_en_csv_v2_9865.csv")

# Loading inflation data for Yemen
inflation_data = load_data("API_FP.CPI.TOTL.ZG_DS2_en_csv_v2_10107.csv")

# Loading unemployment data for Yemen
unemployment_data = load_data("API_SL.UEM.TOTL.ZS_DS2_en_csv_v2_10162.csv")

# After loading the data, check for 'Country Name' column existence
def check_year_column(df):
    if df is not None and 'Country Name' in df.columns:  # Check if DataFrame is not None and contains 'Country Name'
        return df
    else:
        print("Country Name column not found in the DataFrame or DataFrame is None.")
        return None

# Filter data for Yemen
def filter_yemen_data(df):
    if df is not None:
        return df[df['Country Name'] == 'Yemen, Rep.']  # Filter for 'Yemen, Rep.'
    else:
        print("DataFrame is None, cannot filter for Yemen.")
        return None

# Check and filter the datasets for Yemen
gdp_data = check_year_column(gdp_data)
inflation_data = check_year_column(inflation_data)
unemployment_data = check_year_column(unemployment_data)

gdp_data = filter_yemen_data(gdp_data)
inflation_data = filter_yemen_data(inflation_data)
unemployment_data = filter_yemen_data(unemployment_data)

# Check for missing values
if gdp_data is not None:
    print("GDP Data Missing Values:", gdp_data.isnull().sum())
if inflation_data is not None:
    print("Inflation Data Missing Values:", inflation_data.isnull().sum())
if unemployment_data is not None:
    print("Unemployment Data Missing Values:", unemployment_data.isnull().sum())

# Proceed with further processing only if data was loaded correctly
if gdp_data is not None and inflation_data is not None and unemployment_data is not None:
    # Convert relevant columns to numeric, errors='coerce' will turn non-numeric values into NaN
    gdp_data.iloc[:, 2:] = gdp_data.iloc[:, 2:].apply(pd.to_numeric, errors='coerce')
    inflation_data.iloc[:, 2:] = inflation_data.iloc[:, 2:].apply(pd.to_numeric, errors='coerce')
    unemployment_data.iloc[:, 2:] = unemployment_data.iloc[:, 2:].apply(pd.to_numeric, errors='coerce')

    # Fill missing values with the average for each indicator
    gdp_data.fillna(gdp_data.mean(numeric_only=True), inplace=True)
    inflation_data.fillna(inflation_data.mean(numeric_only=True), inplace=True)
    unemployment_data.fillna(unemployment_data.mean(numeric_only=True), inplace=True)

    # Merging datasets on 'Year'
    try:
        # Extract the Year column from the original dataset
        years = gdp_data.columns[2:]  # Assuming the first two columns are 'Country Name' and 'Country Code'
        
        # Prepare the merged dataframe
        yemen_data = gdp_data[['Country Name', 'Country Code'] + list(years)].merge(
            inflation_data[['Country Name', 'Country Code'] + list(years)],
            on=['Country Name', 'Country Code'],
            suffixes=('_GDP', '_Inflation')
        ).merge(
            unemployment_data[['Country Name', 'Country Code'] + list(years)],
            on=['Country Name', 'Country Code'],
            suffixes=('', '_Unemployment')
        )

        print("Merged Yemen Data:")
        print(yemen_data.head())
    except KeyError as e:
        print(f"KeyError during merging: {e}")


# Plotting GDP Growth Over Time
plt.figure(figsize=(10, 6))
sns.lineplot(data=gdp_data, x='Year', y='GDP_growth')
plt.title('GDP Growth in Yemen Over Time')
plt.xlabel('Year')
plt.ylabel('GDP Growth (%)')
plt.show()


# Scatter plot of GDP Growth vs. Inflation
plt.figure(figsize=(8, 6))
sns.scatterplot(data=yemen_data, x='Inflation', y='GDP_growth')
plt.title('GDP Growth vs. Inflation in Yemen')
plt.xlabel('Inflation Rate (%)')
plt.ylabel('GDP Growth (%)')
plt.show()

# Calculating Pearson correlation
correlation, _ = pearsonr(yemen_data['Inflation'], yemen_data['GDP_growth'])
print(f"Pearson correlation between Inflation and GDP growth: {correlation}")


from sklearn.linear_model import LinearRegression

# Defining features and target variable
X = yemen_data[['Inflation', 'Unemployment']]
y = yemen_data['GDP_growth']

# Fitting the model
model = LinearRegression()
model.fit(X, y)

print("Coefficients:", model.coef_)
print("Intercept:", model.intercept_)



# Displaying correlation matrix
plt.figure(figsize=(10, 8))
sns.heatmap(yemen_data.corr(), annot=True, cmap='coolwarm')
plt.title('Correlation Matrix for Yemen Economic Indicators')
plt.show()


# Plotting GDP Growth and Inflation over time
plt.figure(figsize=(12, 8))
sns.lineplot(data=yemen_data, x='Year', y='GDP_growth', label='GDP Growth')
sns.lineplot(data=yemen_data, x='Year', y='Inflation', label='Inflation')
plt.title('GDP Growth and Inflation Over Time')
plt.xlabel('Year')
plt.ylabel('Percentage')
plt.legend()
plt.show()
    






